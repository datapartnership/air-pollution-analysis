{
 "cells": [
  {
   "cell_type": "code",
   "execution_count": 17,
   "id": "e4b6f934",
   "metadata": {},
   "outputs": [],
   "source": [
    "# Add this at the top of your notebook\n",
    "%load_ext autoreload\n",
    "%autoreload 2  \n",
    "# Automatically reload all modules before executing code\n",
    "\n",
    "from airpollutionpy import extraction as no2\n",
    "import ee\n",
    "import geemap\n",
    "import pandas as pd\n",
    "import geopandas as gpd\n",
    "import matplotlib.pyplot as plt\n",
    "import os\n",
    "import sys\n",
    "from datetime import datetime"
   ]
  },
  {
   "cell_type": "code",
   "execution_count": 18,
   "id": "66361af9",
   "metadata": {},
   "outputs": [
    {
     "data": {
      "text/html": [
       "\n",
       "            <style>\n",
       "                .geemap-dark {\n",
       "                    --jp-widgets-color: white;\n",
       "                    --jp-widgets-label-color: white;\n",
       "                    --jp-ui-font-color1: white;\n",
       "                    --jp-layout-color2: #454545;\n",
       "                    background-color: #383838;\n",
       "                }\n",
       "\n",
       "                .geemap-dark .jupyter-button {\n",
       "                    --jp-layout-color3: #383838;\n",
       "                }\n",
       "\n",
       "                .geemap-colab {\n",
       "                    background-color: var(--colab-primary-surface-color, white);\n",
       "                }\n",
       "\n",
       "                .geemap-colab .jupyter-button {\n",
       "                    --jp-layout-color3: var(--colab-primary-surface-color, white);\n",
       "                }\n",
       "            </style>\n",
       "            "
      ],
      "text/plain": [
       "<IPython.core.display.HTML object>"
      ]
     },
     "metadata": {},
     "output_type": "display_data"
    },
    {
     "name": "stdout",
     "output_type": "stream",
     "text": [
      "Earth Engine already initialized\n"
     ]
    }
   ],
   "source": [
    "no2.initialize_earth_engine()"
   ]
  },
  {
   "cell_type": "code",
   "execution_count": 8,
   "id": "d1e2613e",
   "metadata": {},
   "outputs": [
    {
     "data": {
      "text/html": [
       "\n",
       "            <style>\n",
       "                .geemap-dark {\n",
       "                    --jp-widgets-color: white;\n",
       "                    --jp-widgets-label-color: white;\n",
       "                    --jp-ui-font-color1: white;\n",
       "                    --jp-layout-color2: #454545;\n",
       "                    background-color: #383838;\n",
       "                }\n",
       "\n",
       "                .geemap-dark .jupyter-button {\n",
       "                    --jp-layout-color3: #383838;\n",
       "                }\n",
       "\n",
       "                .geemap-colab {\n",
       "                    background-color: var(--colab-primary-surface-color, white);\n",
       "                }\n",
       "\n",
       "                .geemap-colab .jupyter-button {\n",
       "                    --jp-layout-color3: var(--colab-primary-surface-color, white);\n",
       "                }\n",
       "            </style>\n",
       "            "
      ],
      "text/plain": [
       "<IPython.core.display.HTML object>"
      ]
     },
     "metadata": {},
     "output_type": "display_data"
    }
   ],
   "source": [
    "kenya_adm1 = gpd.read_file('../data/boundaries/kenya/ken_admbnda_adm1_iebc_20191031.shp')\n",
    "nairobi = kenya_adm1[kenya_adm1['ADM1_EN']=='Nairobi']\n",
    "nairobi.to_file('../data/boundaries/kenya/nairobi.geojson', driver='GeoJSON')"
   ]
  },
  {
   "cell_type": "code",
   "execution_count": 12,
   "id": "f901f850",
   "metadata": {},
   "outputs": [
    {
     "data": {
      "text/html": [
       "\n",
       "            <style>\n",
       "                .geemap-dark {\n",
       "                    --jp-widgets-color: white;\n",
       "                    --jp-widgets-label-color: white;\n",
       "                    --jp-ui-font-color1: white;\n",
       "                    --jp-layout-color2: #454545;\n",
       "                    background-color: #383838;\n",
       "                }\n",
       "\n",
       "                .geemap-dark .jupyter-button {\n",
       "                    --jp-layout-color3: #383838;\n",
       "                }\n",
       "\n",
       "                .geemap-colab {\n",
       "                    background-color: var(--colab-primary-surface-color, white);\n",
       "                }\n",
       "\n",
       "                .geemap-colab .jupyter-button {\n",
       "                    --jp-layout-color3: var(--colab-primary-surface-color, white);\n",
       "                }\n",
       "            </style>\n",
       "            "
      ],
      "text/plain": [
       "<IPython.core.display.HTML object>"
      ]
     },
     "metadata": {},
     "output_type": "display_data"
    }
   ],
   "source": [
    "kenya_adm2 = gpd.read_file('../data/boundaries/kenya/ken_admbnda_adm2_iebc_20191031.shp')\n",
    "nairobi_adm2 = kenya_adm2[kenya_adm2['ADM1_EN']=='Nairobi']\n",
    "nairobi_adm2.to_file('../data/boundaries/kenya/nairobi_adm2.geojson', driver='GeoJSON')"
   ]
  },
  {
   "cell_type": "code",
   "execution_count": 20,
   "id": "7eced5f6",
   "metadata": {},
   "outputs": [
    {
     "data": {
      "text/html": [
       "\n",
       "            <style>\n",
       "                .geemap-dark {\n",
       "                    --jp-widgets-color: white;\n",
       "                    --jp-widgets-label-color: white;\n",
       "                    --jp-ui-font-color1: white;\n",
       "                    --jp-layout-color2: #454545;\n",
       "                    background-color: #383838;\n",
       "                }\n",
       "\n",
       "                .geemap-dark .jupyter-button {\n",
       "                    --jp-layout-color3: #383838;\n",
       "                }\n",
       "\n",
       "                .geemap-colab {\n",
       "                    background-color: var(--colab-primary-surface-color, white);\n",
       "                }\n",
       "\n",
       "                .geemap-colab .jupyter-button {\n",
       "                    --jp-layout-color3: var(--colab-primary-surface-color, white);\n",
       "                }\n",
       "            </style>\n",
       "            "
      ],
      "text/plain": [
       "<IPython.core.display.HTML object>"
      ]
     },
     "metadata": {},
     "output_type": "display_data"
    }
   ],
   "source": [
    "addis = gpd.read_file('../data/boundaries/ethiopia/eth_admbnda_adm1_csa_bofedb_2021.shp')\n",
    "addis = addis[addis['ADM1_EN']=='Addis Ababa']"
   ]
  },
  {
   "cell_type": "code",
   "execution_count": 56,
   "id": "fa2e048f",
   "metadata": {},
   "outputs": [
    {
     "data": {
      "text/html": [
       "\n",
       "            <style>\n",
       "                .geemap-dark {\n",
       "                    --jp-widgets-color: white;\n",
       "                    --jp-widgets-label-color: white;\n",
       "                    --jp-ui-font-color1: white;\n",
       "                    --jp-layout-color2: #454545;\n",
       "                    background-color: #383838;\n",
       "                }\n",
       "\n",
       "                .geemap-dark .jupyter-button {\n",
       "                    --jp-layout-color3: #383838;\n",
       "                }\n",
       "\n",
       "                .geemap-colab {\n",
       "                    background-color: var(--colab-primary-surface-color, white);\n",
       "                }\n",
       "\n",
       "                .geemap-colab .jupyter-button {\n",
       "                    --jp-layout-color3: var(--colab-primary-surface-color, white);\n",
       "                }\n",
       "            </style>\n",
       "            "
      ],
      "text/plain": [
       "<IPython.core.display.HTML object>"
      ]
     },
     "metadata": {},
     "output_type": "display_data"
    }
   ],
   "source": [
    "# country_list = ['ETH', 'KEN']\n",
    "# gdf = pd.DataFrame()\n",
    "# for name in country_list:\n",
    "    \n",
    "#     df = get_boundaries('ISO_A3', name)\n",
    "    \n",
    "#     if isinstance(df, pd.DataFrame):\n",
    "#         gdf = pd.concat([gdf, df])\n",
    "#     elif isinstance(df, str):\n",
    "#         country = san_fac.loc[name, 'Country']\n",
    "#         df = get_boundaries('WB_NAME', country)\n",
    "#         if isinstance(df, pd.DataFrame):\n",
    "#             gdf = pd.concat([gdf, df])\n",
    "#         else:\n",
    "#             print(name)"
   ]
  },
  {
   "cell_type": "code",
   "execution_count": 21,
   "id": "a0e3c300",
   "metadata": {},
   "outputs": [
    {
     "data": {
      "text/html": [
       "\n",
       "            <style>\n",
       "                .geemap-dark {\n",
       "                    --jp-widgets-color: white;\n",
       "                    --jp-widgets-label-color: white;\n",
       "                    --jp-ui-font-color1: white;\n",
       "                    --jp-layout-color2: #454545;\n",
       "                    background-color: #383838;\n",
       "                }\n",
       "\n",
       "                .geemap-dark .jupyter-button {\n",
       "                    --jp-layout-color3: #383838;\n",
       "                }\n",
       "\n",
       "                .geemap-colab {\n",
       "                    background-color: var(--colab-primary-surface-color, white);\n",
       "                }\n",
       "\n",
       "                .geemap-colab .jupyter-button {\n",
       "                    --jp-layout-color3: var(--colab-primary-surface-color, white);\n",
       "                }\n",
       "            </style>\n",
       "            "
      ],
      "text/plain": [
       "<IPython.core.display.HTML object>"
      ]
     },
     "metadata": {},
     "output_type": "display_data"
    }
   ],
   "source": [
    "start_date = '2019-01-01'\n",
    "end_date = '2024-12-01'"
   ]
  },
  {
   "cell_type": "code",
   "execution_count": 23,
   "id": "32a3a2ac",
   "metadata": {},
   "outputs": [
    {
     "data": {
      "text/html": [
       "\n",
       "            <style>\n",
       "                .geemap-dark {\n",
       "                    --jp-widgets-color: white;\n",
       "                    --jp-widgets-label-color: white;\n",
       "                    --jp-ui-font-color1: white;\n",
       "                    --jp-layout-color2: #454545;\n",
       "                    background-color: #383838;\n",
       "                }\n",
       "\n",
       "                .geemap-dark .jupyter-button {\n",
       "                    --jp-layout-color3: #383838;\n",
       "                }\n",
       "\n",
       "                .geemap-colab {\n",
       "                    background-color: var(--colab-primary-surface-color, white);\n",
       "                }\n",
       "\n",
       "                .geemap-colab .jupyter-button {\n",
       "                    --jp-layout-color3: var(--colab-primary-surface-color, white);\n",
       "                }\n",
       "            </style>\n",
       "            "
      ],
      "text/plain": [
       "<IPython.core.display.HTML object>"
      ]
     },
     "metadata": {},
     "output_type": "display_data"
    },
    {
     "name": "stdout",
     "output_type": "stream",
     "text": [
      "Processing NO2 data from 2019-01-01 to 2024-12-01\n",
      "Temporal resolution: monthly\n",
      "Spatial resolution: admin\n",
      "Collection type: OFFL\n",
      "Admin regions count: 1\n",
      "Number of available images in date range: 30464\n",
      "Processing month: 2019-01-01 to 2019-02-01\n",
      "Month 2019-01-01: Reduced regions result size: 1\n",
      "Processing month: 2019-02-01 to 2019-03-01\n",
      "Month 2019-02-01: Reduced regions result size: 1\n",
      "Processing month: 2019-03-01 to 2019-04-01\n",
      "Month 2019-03-01: Reduced regions result size: 1\n",
      "Processing month: 2019-04-01 to 2019-05-01\n",
      "Month 2019-04-01: Reduced regions result size: 1\n",
      "Processing month: 2019-05-01 to 2019-06-01\n",
      "Month 2019-05-01: Reduced regions result size: 1\n",
      "Processing month: 2019-06-01 to 2019-07-01\n",
      "Month 2019-06-01: Reduced regions result size: 1\n",
      "Processing month: 2019-07-01 to 2019-08-01\n",
      "Month 2019-07-01: Reduced regions result size: 1\n",
      "Processing month: 2019-08-01 to 2019-09-01\n",
      "Month 2019-08-01: Reduced regions result size: 1\n",
      "Processing month: 2019-09-01 to 2019-10-01\n",
      "Month 2019-09-01: Reduced regions result size: 1\n",
      "Processing month: 2019-10-01 to 2019-11-01\n",
      "Month 2019-10-01: Reduced regions result size: 1\n",
      "Processing month: 2019-11-01 to 2019-12-01\n",
      "Month 2019-11-01: Reduced regions result size: 1\n",
      "Processing month: 2019-12-01 to 2020-01-01\n",
      "Month 2019-12-01: Reduced regions result size: 1\n",
      "Processing month: 2020-01-01 to 2020-02-01\n",
      "Month 2020-01-01: Reduced regions result size: 1\n",
      "Processing month: 2020-02-01 to 2020-03-01\n",
      "Month 2020-02-01: Reduced regions result size: 1\n",
      "Processing month: 2020-03-01 to 2020-04-01\n",
      "Month 2020-03-01: Reduced regions result size: 1\n",
      "Processing month: 2020-04-01 to 2020-05-01\n",
      "Month 2020-04-01: Reduced regions result size: 1\n",
      "Processing month: 2020-05-01 to 2020-06-01\n",
      "Month 2020-05-01: Reduced regions result size: 1\n",
      "Processing month: 2020-06-01 to 2020-07-01\n",
      "Month 2020-06-01: Reduced regions result size: 1\n",
      "Processing month: 2020-07-01 to 2020-08-01\n",
      "Month 2020-07-01: Reduced regions result size: 1\n",
      "Processing month: 2020-08-01 to 2020-09-01\n",
      "Month 2020-08-01: Reduced regions result size: 1\n",
      "Processing month: 2020-09-01 to 2020-10-01\n",
      "Month 2020-09-01: Reduced regions result size: 1\n",
      "Processing month: 2020-10-01 to 2020-11-01\n",
      "Month 2020-10-01: Reduced regions result size: 1\n",
      "Processing month: 2020-11-01 to 2020-12-01\n",
      "Month 2020-11-01: Reduced regions result size: 1\n",
      "Processing month: 2020-12-01 to 2021-01-01\n",
      "Month 2020-12-01: Reduced regions result size: 1\n",
      "Processing month: 2021-01-01 to 2021-02-01\n",
      "Month 2021-01-01: Reduced regions result size: 1\n",
      "Processing month: 2021-02-01 to 2021-03-01\n",
      "Month 2021-02-01: Reduced regions result size: 1\n",
      "Processing month: 2021-03-01 to 2021-04-01\n",
      "Month 2021-03-01: Reduced regions result size: 1\n",
      "Processing month: 2021-04-01 to 2021-05-01\n",
      "Month 2021-04-01: Reduced regions result size: 1\n",
      "Processing month: 2021-05-01 to 2021-06-01\n",
      "Month 2021-05-01: Reduced regions result size: 1\n",
      "Processing month: 2021-06-01 to 2021-07-01\n",
      "Month 2021-06-01: Reduced regions result size: 1\n",
      "Processing month: 2021-07-01 to 2021-08-01\n",
      "Month 2021-07-01: Reduced regions result size: 1\n",
      "Processing month: 2021-08-01 to 2021-09-01\n",
      "Month 2021-08-01: Reduced regions result size: 1\n",
      "Processing month: 2021-09-01 to 2021-10-01\n",
      "Month 2021-09-01: Reduced regions result size: 1\n",
      "Processing month: 2021-10-01 to 2021-11-01\n",
      "Month 2021-10-01: Reduced regions result size: 1\n",
      "Processing month: 2021-11-01 to 2021-12-01\n",
      "Month 2021-11-01: Reduced regions result size: 1\n",
      "Processing month: 2021-12-01 to 2022-01-01\n",
      "Month 2021-12-01: Reduced regions result size: 1\n",
      "Processing month: 2022-01-01 to 2022-02-01\n",
      "Month 2022-01-01: Reduced regions result size: 1\n",
      "Processing month: 2022-02-01 to 2022-03-01\n",
      "Month 2022-02-01: Reduced regions result size: 1\n",
      "Processing month: 2022-03-01 to 2022-04-01\n",
      "Month 2022-03-01: Reduced regions result size: 1\n",
      "Processing month: 2022-04-01 to 2022-05-01\n",
      "Month 2022-04-01: Reduced regions result size: 1\n",
      "Processing month: 2022-05-01 to 2022-06-01\n",
      "Month 2022-05-01: Reduced regions result size: 1\n",
      "Processing month: 2022-06-01 to 2022-07-01\n",
      "Month 2022-06-01: Reduced regions result size: 1\n",
      "Processing month: 2022-07-01 to 2022-08-01\n",
      "Month 2022-07-01: Reduced regions result size: 1\n",
      "Processing month: 2022-08-01 to 2022-09-01\n",
      "Month 2022-08-01: Reduced regions result size: 1\n",
      "Processing month: 2022-09-01 to 2022-10-01\n",
      "Month 2022-09-01: Reduced regions result size: 1\n",
      "Processing month: 2022-10-01 to 2022-11-01\n",
      "Month 2022-10-01: Reduced regions result size: 1\n",
      "Processing month: 2022-11-01 to 2022-12-01\n",
      "Month 2022-11-01: Reduced regions result size: 1\n",
      "Processing month: 2022-12-01 to 2023-01-01\n",
      "Month 2022-12-01: Reduced regions result size: 1\n",
      "Processing month: 2023-01-01 to 2023-02-01\n",
      "Month 2023-01-01: Reduced regions result size: 1\n",
      "Processing month: 2023-02-01 to 2023-03-01\n",
      "Month 2023-02-01: Reduced regions result size: 1\n",
      "Processing month: 2023-03-01 to 2023-04-01\n",
      "Month 2023-03-01: Reduced regions result size: 1\n",
      "Processing month: 2023-04-01 to 2023-05-01\n",
      "Month 2023-04-01: Reduced regions result size: 1\n",
      "Processing month: 2023-05-01 to 2023-06-01\n",
      "Month 2023-05-01: Reduced regions result size: 1\n",
      "Processing month: 2023-06-01 to 2023-07-01\n",
      "Month 2023-06-01: Reduced regions result size: 1\n",
      "Processing month: 2023-07-01 to 2023-08-01\n",
      "Month 2023-07-01: Reduced regions result size: 1\n",
      "Processing month: 2023-08-01 to 2023-09-01\n",
      "Month 2023-08-01: Reduced regions result size: 1\n",
      "Processing month: 2023-09-01 to 2023-10-01\n",
      "Month 2023-09-01: Reduced regions result size: 1\n",
      "Processing month: 2023-10-01 to 2023-11-01\n",
      "Month 2023-10-01: Reduced regions result size: 1\n",
      "Processing month: 2023-11-01 to 2023-12-01\n",
      "Month 2023-11-01: Reduced regions result size: 1\n",
      "Processing month: 2023-12-01 to 2024-01-01\n",
      "Month 2023-12-01: Reduced regions result size: 1\n",
      "Processing month: 2024-01-01 to 2024-02-01\n",
      "Month 2024-01-01: Reduced regions result size: 1\n",
      "Processing month: 2024-02-01 to 2024-03-01\n",
      "Month 2024-02-01: Reduced regions result size: 1\n",
      "Processing month: 2024-03-01 to 2024-04-01\n",
      "Month 2024-03-01: Reduced regions result size: 1\n",
      "Processing month: 2024-04-01 to 2024-05-01\n",
      "Month 2024-04-01: Reduced regions result size: 1\n",
      "Processing month: 2024-05-01 to 2024-06-01\n",
      "Month 2024-05-01: Reduced regions result size: 1\n",
      "Processing month: 2024-06-01 to 2024-07-01\n",
      "Month 2024-06-01: Reduced regions result size: 1\n",
      "Processing month: 2024-07-01 to 2024-08-01\n",
      "Month 2024-07-01: Reduced regions result size: 1\n",
      "Processing month: 2024-08-01 to 2024-09-01\n",
      "Month 2024-08-01: Reduced regions result size: 1\n",
      "Processing month: 2024-09-01 to 2024-10-01\n",
      "Month 2024-09-01: Reduced regions result size: 1\n",
      "Processing month: 2024-10-01 to 2024-11-01\n",
      "Month 2024-10-01: Reduced regions result size: 1\n",
      "Processing month: 2024-11-01 to 2024-12-01\n",
      "Month 2024-11-01: Reduced regions result size: 1\n",
      "Processing month: 2024-12-01 to 2025-01-01\n",
      "Month 2024-12-01: Reduced regions result size: 1\n",
      "Final collection size: 72 features\n"
     ]
    }
   ],
   "source": [
    "# Correct setup\n",
    "aoi = geemap.geopandas_to_ee(addis)  \n",
    "admin_regions = geemap.geopandas_to_ee(addis)\n",
    "\n",
    "monthly_data = no2.process_no2_data(\n",
    "    start_date=start_date,\n",
    "    end_date=end_date,\n",
    "    aoi=aoi,\n",
    "    admin_regions=admin_regions,\n",
    "    temporal_resolution='monthly',\n",
    "    spatial_resolution='admin',\n",
    "    collection_type=\"OFFL\"\n",
    ")"
   ]
  },
  {
   "cell_type": "code",
   "execution_count": null,
   "id": "b2edfe5a",
   "metadata": {},
   "outputs": [
    {
     "data": {
      "text/html": [
       "\n",
       "            <style>\n",
       "                .geemap-dark {\n",
       "                    --jp-widgets-color: white;\n",
       "                    --jp-widgets-label-color: white;\n",
       "                    --jp-ui-font-color1: white;\n",
       "                    --jp-layout-color2: #454545;\n",
       "                    background-color: #383838;\n",
       "                }\n",
       "\n",
       "                .geemap-dark .jupyter-button {\n",
       "                    --jp-layout-color3: #383838;\n",
       "                }\n",
       "\n",
       "                .geemap-colab {\n",
       "                    background-color: var(--colab-primary-surface-color, white);\n",
       "                }\n",
       "\n",
       "                .geemap-colab .jupyter-button {\n",
       "                    --jp-layout-color3: var(--colab-primary-surface-color, white);\n",
       "                }\n",
       "            </style>\n",
       "            "
      ],
      "text/plain": [
       "<IPython.core.display.HTML object>"
      ]
     },
     "metadata": {},
     "output_type": "display_data"
    }
   ],
   "source": [
    "adm3 = list(eth_adm3['ADM3_EN'].unique())"
   ]
  },
  {
   "cell_type": "code",
   "execution_count": 24,
   "id": "3d399eb3",
   "metadata": {},
   "outputs": [
    {
     "data": {
      "text/html": [
       "\n",
       "            <style>\n",
       "                .geemap-dark {\n",
       "                    --jp-widgets-color: white;\n",
       "                    --jp-widgets-label-color: white;\n",
       "                    --jp-ui-font-color1: white;\n",
       "                    --jp-layout-color2: #454545;\n",
       "                    background-color: #383838;\n",
       "                }\n",
       "\n",
       "                .geemap-dark .jupyter-button {\n",
       "                    --jp-layout-color3: #383838;\n",
       "                }\n",
       "\n",
       "                .geemap-colab {\n",
       "                    background-color: var(--colab-primary-surface-color, white);\n",
       "                }\n",
       "\n",
       "                .geemap-colab .jupyter-button {\n",
       "                    --jp-layout-color3: var(--colab-primary-surface-color, white);\n",
       "                }\n",
       "            </style>\n",
       "            "
      ],
      "text/plain": [
       "<IPython.core.display.HTML object>"
      ]
     },
     "metadata": {},
     "output_type": "display_data"
    },
    {
     "name": "stdout",
     "output_type": "stream",
     "text": [
      "Using years: [2019, 2020, 2021, 2022, 2023, 2024]\n",
      "Using temporal splitting strategy by year\n",
      "Started export task for 2019\n",
      "Started export task for 2020\n",
      "Started export task for 2021\n",
      "Started export task for 2022\n",
      "Started export task for 2023\n",
      "Started export task for 2024\n",
      "Started 6 export tasks in total\n"
     ]
    }
   ],
   "source": [
    "monthly_df = no2.export_no2_data(\n",
    "    collection=monthly_data,\n",
    "    description=\"Monthly_NO2_Adm2\",\n",
    "    output_file=\"addis_adm1_no2_monthly.csv\",\n",
    "    destination=\"datalab-air-pollution/ETH/ADM1\",\n",
    "    export_type=\"GCS\",\n",
    "    return_df=False,\n",
    "    # admin_codes=adm3,\n",
    "    # admin_code_field='ADM3_EN'\n",
    ")"
   ]
  },
  {
   "cell_type": "code",
   "execution_count": 25,
   "id": "95872e76",
   "metadata": {},
   "outputs": [
    {
     "data": {
      "text/html": [
       "\n",
       "            <style>\n",
       "                .geemap-dark {\n",
       "                    --jp-widgets-color: white;\n",
       "                    --jp-widgets-label-color: white;\n",
       "                    --jp-ui-font-color1: white;\n",
       "                    --jp-layout-color2: #454545;\n",
       "                    background-color: #383838;\n",
       "                }\n",
       "\n",
       "                .geemap-dark .jupyter-button {\n",
       "                    --jp-layout-color3: #383838;\n",
       "                }\n",
       "\n",
       "                .geemap-colab {\n",
       "                    background-color: var(--colab-primary-surface-color, white);\n",
       "                }\n",
       "\n",
       "                .geemap-colab .jupyter-button {\n",
       "                    --jp-layout-color3: var(--colab-primary-surface-color, white);\n",
       "                }\n",
       "            </style>\n",
       "            "
      ],
      "text/plain": [
       "<IPython.core.display.HTML object>"
      ]
     },
     "metadata": {},
     "output_type": "display_data"
    },
    {
     "name": "stdout",
     "output_type": "stream",
     "text": [
      "Found 7 files in bucket\n",
      "c:\\Users\\wb588851\\OneDrive - WBG\\Documents\\air-pollution-analysis\\data\\airpollution\\ethiopia\\ethiopia_adm1\\raw\\monthly\n",
      "c:\\Users\\wb588851\\OneDrive - WBG\\Documents\\air-pollution-analysis\\data\\airpollution\\ethiopia\\ethiopia_adm1\\raw\\monthly\n",
      "Downloading ETH/ADM1/addis_adm1_no2_monthly_2019.csv...\n",
      "c:\\Users\\wb588851\\OneDrive - WBG\\Documents\\air-pollution-analysis\\data\\airpollution\\ethiopia\\ethiopia_adm1\\raw\\monthly\n",
      "Downloading ETH/ADM1/addis_adm1_no2_monthly_2020.csv...\n",
      "c:\\Users\\wb588851\\OneDrive - WBG\\Documents\\air-pollution-analysis\\data\\airpollution\\ethiopia\\ethiopia_adm1\\raw\\monthly\n",
      "Downloading ETH/ADM1/addis_adm1_no2_monthly_2021.csv...\n",
      "c:\\Users\\wb588851\\OneDrive - WBG\\Documents\\air-pollution-analysis\\data\\airpollution\\ethiopia\\ethiopia_adm1\\raw\\monthly\n",
      "Downloading ETH/ADM1/addis_adm1_no2_monthly_2022.csv...\n",
      "c:\\Users\\wb588851\\OneDrive - WBG\\Documents\\air-pollution-analysis\\data\\airpollution\\ethiopia\\ethiopia_adm1\\raw\\monthly\n",
      "Downloading ETH/ADM1/addis_adm1_no2_monthly_2023.csv...\n",
      "c:\\Users\\wb588851\\OneDrive - WBG\\Documents\\air-pollution-analysis\\data\\airpollution\\ethiopia\\ethiopia_adm1\\raw\\monthly\n",
      "Downloading ETH/ADM1/addis_adm1_no2_monthly_2024.csv...\n",
      "Download complete: 6 files downloaded, 0 files skipped\n"
     ]
    }
   ],
   "source": [
    "from airpollutionpy import downloadgcs\n",
    "import os\n",
    "\n",
    "bucket_name = \"datalab-air-pollution\"\n",
    "prefix = 'ETH/ADM1/'\n",
    "output_folder = os.path.abspath(\"../data/airpollution/ethiopia/ethiopia_adm1/raw/monthly/\")\n",
    "\n",
    "os.makedirs(output_folder, exist_ok=True)\n",
    "\n",
    "downloadgcs.download_bucket_files(bucket_name, output_folder=output_folder, prefix=prefix)"
   ]
  },
  {
   "cell_type": "code",
   "execution_count": 26,
   "id": "0f9ec487",
   "metadata": {},
   "outputs": [
    {
     "data": {
      "text/html": [
       "\n",
       "            <style>\n",
       "                .geemap-dark {\n",
       "                    --jp-widgets-color: white;\n",
       "                    --jp-widgets-label-color: white;\n",
       "                    --jp-ui-font-color1: white;\n",
       "                    --jp-layout-color2: #454545;\n",
       "                    background-color: #383838;\n",
       "                }\n",
       "\n",
       "                .geemap-dark .jupyter-button {\n",
       "                    --jp-layout-color3: #383838;\n",
       "                }\n",
       "\n",
       "                .geemap-colab {\n",
       "                    background-color: var(--colab-primary-surface-color, white);\n",
       "                }\n",
       "\n",
       "                .geemap-colab .jupyter-button {\n",
       "                    --jp-layout-color3: var(--colab-primary-surface-color, white);\n",
       "                }\n",
       "            </style>\n",
       "            "
      ],
      "text/plain": [
       "<IPython.core.display.HTML object>"
      ]
     },
     "metadata": {},
     "output_type": "display_data"
    }
   ],
   "source": [
    "import glob\n",
    "import pandas as pd\n",
    "\n",
    "files = glob.glob('../data/airpollution/ethiopia/ethiopia_adm1/raw/monthly/*.csv')\n",
    "\n",
    "nairobi_adm1_no2_monthly = pd.DataFrame()\n",
    "\n",
    "for file in files:\n",
    "    df = pd.read_csv(file)\n",
    "    df['date'] = pd.to_datetime(df['date'])\n",
    "    df['year'] = df['date'].dt.year\n",
    "    df['month'] = df['date'].dt.month\n",
    "    df.drop(columns=['system:index'], inplace=True)\n",
    "    nairobi_adm1_no2_monthly = pd.concat([nairobi_adm1_no2_monthly, df], ignore_index=True)\n",
    "    "
   ]
  },
  {
   "cell_type": "code",
   "execution_count": 28,
   "id": "06560b09",
   "metadata": {},
   "outputs": [
    {
     "data": {
      "text/html": [
       "\n",
       "            <style>\n",
       "                .geemap-dark {\n",
       "                    --jp-widgets-color: white;\n",
       "                    --jp-widgets-label-color: white;\n",
       "                    --jp-ui-font-color1: white;\n",
       "                    --jp-layout-color2: #454545;\n",
       "                    background-color: #383838;\n",
       "                }\n",
       "\n",
       "                .geemap-dark .jupyter-button {\n",
       "                    --jp-layout-color3: #383838;\n",
       "                }\n",
       "\n",
       "                .geemap-colab {\n",
       "                    background-color: var(--colab-primary-surface-color, white);\n",
       "                }\n",
       "\n",
       "                .geemap-colab .jupyter-button {\n",
       "                    --jp-layout-color3: var(--colab-primary-surface-color, white);\n",
       "                }\n",
       "            </style>\n",
       "            "
      ],
      "text/plain": [
       "<IPython.core.display.HTML object>"
      ]
     },
     "metadata": {},
     "output_type": "display_data"
    }
   ],
   "source": [
    "nairobi_adm1_no2_monthly.to_csv('../data/airpollution/ethiopia/ethiopia_adm1/processed/addis_adm1_no2_monthly_2019_2024.csv', )"
   ]
  }
 ],
 "metadata": {
  "kernelspec": {
   "display_name": "acled",
   "language": "python",
   "name": "python3"
  },
  "language_info": {
   "codemirror_mode": {
    "name": "ipython",
    "version": 3
   },
   "file_extension": ".py",
   "mimetype": "text/x-python",
   "name": "python",
   "nbconvert_exporter": "python",
   "pygments_lexer": "ipython3",
   "version": "3.11.11"
  }
 },
 "nbformat": 4,
 "nbformat_minor": 5
}
